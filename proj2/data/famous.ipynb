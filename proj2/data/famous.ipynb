{
 "cells": [
  {
   "cell_type": "code",
   "execution_count": 7,
   "metadata": {},
   "outputs": [],
   "source": [
    "import numpy as np # linear algebra\n",
    "import pandas as pd # data processing, CSV file I/O (e.g. pd.read_csv)\n",
    "import matplotlib.pyplot as plt\n",
    "import seaborn as sns\n",
    "from matplotlib.gridspec import GridSpec\n",
    "# Input data files are available in the \"../input/\" directory.\n",
    "# For example, running this (by clicking run or pressing Shift+Enter) will list the files in the input directory\n",
    "\n",
    "\n",
    "\n",
    "# Any results you write to the current directory are saved as output."
   ]
  },
  {
   "cell_type": "code",
   "execution_count": 9,
   "metadata": {},
   "outputs": [
    {
     "data": {
      "text/html": [
       "<div>\n",
       "<style scoped>\n",
       "    .dataframe tbody tr th:only-of-type {\n",
       "        vertical-align: middle;\n",
       "    }\n",
       "\n",
       "    .dataframe tbody tr th {\n",
       "        vertical-align: top;\n",
       "    }\n",
       "\n",
       "    .dataframe thead th {\n",
       "        text-align: right;\n",
       "    }\n",
       "</style>\n",
       "<table border=\"1\" class=\"dataframe\">\n",
       "  <thead>\n",
       "    <tr style=\"text-align: right;\">\n",
       "      <th></th>\n",
       "      <th>age</th>\n",
       "      <th>birth_year</th>\n",
       "      <th>cause_of_death</th>\n",
       "      <th>death_month</th>\n",
       "      <th>death_year</th>\n",
       "      <th>famous_for</th>\n",
       "      <th>name</th>\n",
       "      <th>nationality</th>\n",
       "      <th>fame_score</th>\n",
       "    </tr>\n",
       "  </thead>\n",
       "  <tbody>\n",
       "    <tr>\n",
       "      <th>0</th>\n",
       "      <td>85</td>\n",
       "      <td>1921</td>\n",
       "      <td>natural causes</td>\n",
       "      <td>January</td>\n",
       "      <td>2006</td>\n",
       "      <td>businessman chairman of IBM (1973���1981)</td>\n",
       "      <td>Frank Cary</td>\n",
       "      <td>American</td>\n",
       "      <td>1.0</td>\n",
       "    </tr>\n",
       "    <tr>\n",
       "      <th>1</th>\n",
       "      <td>49</td>\n",
       "      <td>1957</td>\n",
       "      <td>murdered</td>\n",
       "      <td>January</td>\n",
       "      <td>2006</td>\n",
       "      <td>musician (House of Freaks Gutterball)</td>\n",
       "      <td>Bryan Harvey</td>\n",
       "      <td>American</td>\n",
       "      <td>2.0</td>\n",
       "    </tr>\n",
       "  </tbody>\n",
       "</table>\n",
       "</div>"
      ],
      "text/plain": [
       "   age  birth_year   cause_of_death death_month  death_year  \\\n",
       "0   85        1921   natural causes     January        2006   \n",
       "1   49        1957         murdered     January        2006   \n",
       "\n",
       "                                   famous_for          name nationality  \\\n",
       "0   businessman chairman of IBM (1973���1981)    Frank Cary    American   \n",
       "1       musician (House of Freaks Gutterball)  Bryan Harvey    American   \n",
       "\n",
       "   fame_score  \n",
       "0         1.0  \n",
       "1         2.0  "
      ]
     },
     "execution_count": 9,
     "metadata": {},
     "output_type": "execute_result"
    }
   ],
   "source": []
  },
  {
   "cell_type": "code",
   "execution_count": 35,
   "metadata": {},
   "outputs": [
    {
     "ename": "TypeError",
     "evalue": "'encoding' is an invalid keyword argument for this function",
     "output_type": "error",
     "traceback": [
      "\u001b[0;31m---------------------------------------------------------------------------\u001b[0m",
      "\u001b[0;31mTypeError\u001b[0m                                 Traceback (most recent call last)",
      "\u001b[0;32m<ipython-input-35-7a93a05489ac>\u001b[0m in \u001b[0;36m<module>\u001b[0;34m()\u001b[0m\n\u001b[0;32m----> 1\u001b[0;31m \u001b[0;32mfor\u001b[0m \u001b[0mline\u001b[0m \u001b[0;32min\u001b[0m \u001b[0mopen\u001b[0m\u001b[0;34m(\u001b[0m\u001b[0;34m\"celebrity_deaths_4.csv\"\u001b[0m\u001b[0;34m,\u001b[0m \u001b[0mencoding\u001b[0m\u001b[0;34m=\u001b[0m\u001b[0;34m'utf-8'\u001b[0m\u001b[0;34m)\u001b[0m\u001b[0;34m:\u001b[0m\u001b[0;34m\u001b[0m\u001b[0m\n\u001b[0m\u001b[1;32m      2\u001b[0m    \u001b[0moutstr\u001b[0m \u001b[0;34m=\u001b[0m \u001b[0mre\u001b[0m\u001b[0;34m.\u001b[0m\u001b[0msub\u001b[0m\u001b[0;34m(\u001b[0m\u001b[0;34mr'[´]'\u001b[0m\u001b[0;34m,\u001b[0m \u001b[0;34m'’'\u001b[0m\u001b[0;34m,\u001b[0m \u001b[0mline\u001b[0m\u001b[0;34m)\u001b[0m  \u001b[0;31m# replace non-ASCII tick with apostrophe\u001b[0m\u001b[0;34m\u001b[0m\u001b[0m\n\u001b[1;32m      3\u001b[0m    \u001b[0moutstr\u001b[0m \u001b[0;34m=\u001b[0m \u001b[0mre\u001b[0m\u001b[0;34m.\u001b[0m\u001b[0msub\u001b[0m\u001b[0;34m(\u001b[0m\u001b[0;34m'[\\']'\u001b[0m\u001b[0;34m,\u001b[0m \u001b[0;34m'’'\u001b[0m\u001b[0;34m,\u001b[0m \u001b[0moutstr\u001b[0m\u001b[0;34m)\u001b[0m\u001b[0;34m\u001b[0m\u001b[0m\n\u001b[1;32m      4\u001b[0m \u001b[0;34m\u001b[0m\u001b[0m\n\u001b[1;32m      5\u001b[0m \u001b[0mdeath\u001b[0m \u001b[0;34m=\u001b[0m \u001b[0mpd\u001b[0m\u001b[0;34m.\u001b[0m\u001b[0mread_csv\u001b[0m\u001b[0;34m(\u001b[0m\u001b[0;34m\"celebrity_deaths_4.csv\"\u001b[0m\u001b[0;34m)\u001b[0m\u001b[0;34m\u001b[0m\u001b[0m\n",
      "\u001b[0;31mTypeError\u001b[0m: 'encoding' is an invalid keyword argument for this function"
     ]
    }
   ],
   "source": [
    "for line in open(\"celebrity_deaths_4.csv\", encoding='utf-8'):\n",
    "   outstr = re.sub(r'[´]', '’', line)  # replace non-ASCII tick with apostrophe\n",
    "   outstr = re.sub('[\\']', '’', outstr) \n",
    "    \n",
    "death = pd.read_csv(\"celebrity_deaths_4.csv\")\n",
    "\n",
    "death.head(2)"
   ]
  },
  {
   "cell_type": "code",
   "execution_count": 11,
   "metadata": {},
   "outputs": [],
   "source": [
    "def group_deathcause(cause):\n",
    "    mod_cause = \"\"\n",
    "    cause = str(cause)\n",
    "    if \"cancer\" in cause:\n",
    "        mod_cause = \"cancer\"\n",
    "    elif \"heart\" in cause or \"cardiac\" in cause:\n",
    "        mod_cause = \"heart disease\"\n",
    "    elif \"stroke\" in cause :\n",
    "        mod_cause = \"stroke\"\n",
    "    elif \"diabetes\" in cause:\n",
    "        mod_cause = \"diabetes\"\n",
    "    elif \"gunshot\" == cause:\n",
    "        mod_cause = \"shot\"\n",
    "    elif \"suicide\" in cause:\n",
    "        mod_cause = \"suicide\"\n",
    "    else:\n",
    "        mod_cause = cause\n",
    "    return mod_cause.strip()"
   ]
  },
  {
   "cell_type": "code",
   "execution_count": 12,
   "metadata": {},
   "outputs": [],
   "source": [
    "def age_categorizer(age):\n",
    "    category = \"\"\n",
    "    if (age<18):\n",
    "        category = \"child\"\n",
    "    elif (age<30):\n",
    "        category = \"young\"\n",
    "    elif (age<60) :\n",
    "        category = \"adult\"\n",
    "    else:\n",
    "        category = \"old\"\n",
    "    return category"
   ]
  },
  {
   "cell_type": "code",
   "execution_count": 13,
   "metadata": {},
   "outputs": [],
   "source": [
    "def fam_filtering(row):\n",
    "    op = \"\"\n",
    "    if type(row) == str:\n",
    "        if  ( \"(\" in row) and (\")\" in row):\n",
    "            row = row[:row.index(\"(\")] + row[row.index(\")\")+1 : ]\n",
    "        op = row\n",
    "    else:\n",
    "        op = \"unknown\"\n",
    "    return op\n",
    "def fam_grp(row):\n",
    "    op = \"\"\n",
    "    row = str(row)\n",
    "    if any( ext in row for ext in [\"minister\",\"politician\", \"political\",\"parliament\",\"secretary\"]):\n",
    "        op = \"politician\"\n",
    "    elif \"actress\" in row:\n",
    "        op = \"actress\"\n",
    "    elif \"actor\" in row:\n",
    "        op = \"actor\"\n",
    "    elif \"singer\" in row:\n",
    "        op = \"singer\"\n",
    "    else:\n",
    "        op = row\n",
    "    return op.strip().lower()"
   ]
  },
  {
   "cell_type": "code",
   "execution_count": 14,
   "metadata": {},
   "outputs": [],
   "source": [
    "death_all = death.copy()\n",
    "death_all = death_all.drop(death_all[death_all[\"age\"] == 0 ].index)\n",
    "death_all[\"cause_of_death\"].fillna(\"unknown\",inplace=True)\n",
    "death_all[\"cause_of_death\"] = death_all.apply (lambda row:group_deathcause(row[\"cause_of_death\"]) , axis = 1)\n",
    "death_all[\"age_category\"] = death_all.apply (lambda row: age_categorizer (row[\"age\"]),axis=1)\n",
    "death_all[\"fame_tune\"] = death_all.apply(lambda row: fam_grp(row[\"famous_for\"]), axis=1)\n",
    "death_all[\"fame_tune\"] = death_all.apply(lambda row: fam_filtering(row[\"fame_tune\"]), axis=1)\n",
    "death_all[\"fame_tune\"] = death_all.apply(lambda row: fam_grp(row[\"fame_tune\"]), axis=1)\n",
    "death_all[\"wiki_length\"] = death_all.fame_score\n",
    "death_all.wiki_length = death_all.wiki_length.fillna(0)\n",
    "death_2016 = death_all[death_all.death_year == 2016]\n",
    "death_rest_2016 = death_all[death_all.death_year != 2016]"
   ]
  },
  {
   "cell_type": "code",
   "execution_count": 24,
   "metadata": {},
   "outputs": [],
   "source": [
    "grouped = death_all.groupby(\"age\")"
   ]
  },
  {
   "cell_type": "code",
   "execution_count": 30,
   "metadata": {},
   "outputs": [
    {
     "ename": "ValueError",
     "evalue": "Can only compare identically-labeled Series objects",
     "output_type": "error",
     "traceback": [
      "\u001b[0;31m---------------------------------------------------------------------------\u001b[0m",
      "\u001b[0;31mValueError\u001b[0m                                Traceback (most recent call last)",
      "\u001b[0;32m<ipython-input-30-aa7d179363d1>\u001b[0m in \u001b[0;36m<module>\u001b[0;34m()\u001b[0m\n\u001b[0;32m----> 1\u001b[0;31m \u001b[0midx\u001b[0m \u001b[0;34m=\u001b[0m \u001b[0mdeath_all\u001b[0m\u001b[0;34m.\u001b[0m\u001b[0mgroupby\u001b[0m\u001b[0;34m(\u001b[0m\u001b[0;34m[\u001b[0m\u001b[0;34m'age'\u001b[0m\u001b[0;34m]\u001b[0m\u001b[0;34m)\u001b[0m\u001b[0;34m[\u001b[0m\u001b[0;34m'fame_score'\u001b[0m\u001b[0;34m]\u001b[0m\u001b[0;34m.\u001b[0m\u001b[0mhead\u001b[0m\u001b[0;34m(\u001b[0m\u001b[0;36m5\u001b[0m\u001b[0;34m)\u001b[0m \u001b[0;34m==\u001b[0m \u001b[0mdeath_all\u001b[0m\u001b[0;34m[\u001b[0m\u001b[0;34m'fame_score'\u001b[0m\u001b[0;34m]\u001b[0m\u001b[0;34m\u001b[0m\u001b[0m\n\u001b[0m",
      "\u001b[0;32m/Users/minzheng/anaconda2/lib/python2.7/site-packages/pandas/core/ops.pyc\u001b[0m in \u001b[0;36mwrapper\u001b[0;34m(self, other, axis)\u001b[0m\n\u001b[1;32m    834\u001b[0m             \u001b[0;32mif\u001b[0m \u001b[0;32mnot\u001b[0m \u001b[0mself\u001b[0m\u001b[0;34m.\u001b[0m\u001b[0m_indexed_same\u001b[0m\u001b[0;34m(\u001b[0m\u001b[0mother\u001b[0m\u001b[0;34m)\u001b[0m\u001b[0;34m:\u001b[0m\u001b[0;34m\u001b[0m\u001b[0m\n\u001b[1;32m    835\u001b[0m                 \u001b[0mmsg\u001b[0m \u001b[0;34m=\u001b[0m \u001b[0;34m'Can only compare identically-labeled Series objects'\u001b[0m\u001b[0;34m\u001b[0m\u001b[0m\n\u001b[0;32m--> 836\u001b[0;31m                 \u001b[0;32mraise\u001b[0m \u001b[0mValueError\u001b[0m\u001b[0;34m(\u001b[0m\u001b[0mmsg\u001b[0m\u001b[0;34m)\u001b[0m\u001b[0;34m\u001b[0m\u001b[0m\n\u001b[0m\u001b[1;32m    837\u001b[0m             return self._constructor(na_op(self.values, other.values),\n\u001b[1;32m    838\u001b[0m                                      index=self.index, name=name)\n",
      "\u001b[0;31mValueError\u001b[0m: Can only compare identically-labeled Series objects"
     ]
    }
   ],
   "source": [
    "idx = death_all.groupby(['age'])['fame_score'].head(5) == death_all['fame_score']"
   ]
  },
  {
   "cell_type": "code",
   "execution_count": 33,
   "metadata": {},
   "outputs": [],
   "source": [
    "grouped = data = death_all.groupby('age').apply(lambda x: x.sort_values('fame_score', ascending=False)).groupby(level=0).head(5)"
   ]
  },
  {
   "cell_type": "code",
   "execution_count": 34,
   "metadata": {},
   "outputs": [],
   "source": [
    "grouped.to_csv(\"famous.csv\")"
   ]
  },
  {
   "cell_type": "code",
   "execution_count": null,
   "metadata": {},
   "outputs": [],
   "source": []
  }
 ],
 "metadata": {
  "kernelspec": {
   "display_name": "Python 2",
   "language": "python",
   "name": "python2"
  },
  "language_info": {
   "codemirror_mode": {
    "name": "ipython",
    "version": 2
   },
   "file_extension": ".py",
   "mimetype": "text/x-python",
   "name": "python",
   "nbconvert_exporter": "python",
   "pygments_lexer": "ipython2",
   "version": "2.7.14"
  }
 },
 "nbformat": 4,
 "nbformat_minor": 2
}
